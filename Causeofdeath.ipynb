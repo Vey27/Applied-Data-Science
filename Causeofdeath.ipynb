{
  "nbformat": 4,
  "nbformat_minor": 0,
  "metadata": {
    "colab": {
      "private_outputs": true,
      "provenance": [],
      "authorship_tag": "ABX9TyN2ztrD7unbdmJc0QWClZj7",
      "include_colab_link": true
    },
    "kernelspec": {
      "name": "python3",
      "display_name": "Python 3"
    },
    "language_info": {
      "name": "python"
    }
  },
  "cells": [
    {
      "cell_type": "markdown",
      "metadata": {
        "id": "view-in-github",
        "colab_type": "text"
      },
      "source": [
        "<a href=\"https://colab.research.google.com/github/Vey27/Applied-Data-Science/blob/main/Causeofdeath.ipynb\" target=\"_parent\"><img src=\"https://colab.research.google.com/assets/colab-badge.svg\" alt=\"Open In Colab\"/></a>"
      ]
    },
    {
      "cell_type": "code",
      "execution_count": null,
      "metadata": {
        "id": "9k8ZOjZIVWc2"
      },
      "outputs": [],
      "source": [
        "#import required libraries\n",
        "import matplotlib.pyplot as plt\n",
        "%matplotlib inline"
      ]
    },
    {
      "cell_type": "code",
      "source": [
        "#Data from Ohio State, Leading causes of death in the state from year 2012\n",
        "cause = 'Chronic Diseases','Unintentional Injuries','Alzheimers','Influenza and Pneumonia','Sepsis','Others'"
      ],
      "metadata": {
        "id": "hiSPzbX6ViDb"
      },
      "execution_count": null,
      "outputs": []
    },
    {
      "cell_type": "code",
      "source": [
        "#percentile\n",
        "percentile = [62,5,4,2,1,26]"
      ],
      "metadata": {
        "id": "Muqpjx8gWXkN"
      },
      "execution_count": null,
      "outputs": []
    },
    {
      "cell_type": "code",
      "source": [
        "# Set the pie chart plot properties\n",
        "# Set figure size\n",
        "plt.figure(figsize=(10, 10))\n",
        "\n",
        "# Define the explode values\n",
        "explode = (0.05, 0, 0, 0, 0, 0)\n",
        "\n",
        "# Set pie chart properties\n",
        "plt.pie(percentile, labels=cause, explode=explode, autopct='%1.1f', startangle=70)\n",
        "\n",
        "# Set axis equal to draw pie as a circle\n",
        "plt.axis('equal')\n",
        "\n",
        "# Set the title of the pie chart\n",
        "plt.title('Ohio State - 2012: Leading Causes of Death')\n",
        "\n",
        "# Show the plot (pie chart)\n",
        "plt.show()\n"
      ],
      "metadata": {
        "id": "x8_fvttxZSUY"
      },
      "execution_count": null,
      "outputs": []
    }
  ]
}