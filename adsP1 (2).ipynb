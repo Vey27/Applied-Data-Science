{
  "nbformat": 4,
  "nbformat_minor": 0,
  "metadata": {
    "colab": {
      "private_outputs": true,
      "provenance": []
    },
    "kernelspec": {
      "name": "python3",
      "display_name": "Python 3"
    },
    "language_info": {
      "name": "python"
    }
  },
  "cells": [
    {
      "cell_type": "markdown",
      "source": [
        "#Applied Data Science with Python\n",
        "###Feature Engineering:\n",
        "\n",
        "**After reviewing my knowledge of statistics and my introduction to Artificial Intelligence and machine learning, I am excited to embark on my first real project in Applied Data Science with Python. This project will allow me to apply my Python skills in a practical and hands-on manner, focusing on feature engineering techniques in the context of data analysis and machine learning.**\n",
        "\n",
        "Python feature engineering refers to the process of transforming and manipulating raw data into a format that can be effectively utilized by machine learning models. It involves selecting, creating, and transforming features to improve the performance and accuracy of predictive models.\n",
        "\n",
        "**Some common techniques and features used in Python feature engineering include:**\n",
        "\n",
        "1. Imputation: Handling missing data by filling in or estimating the missing values.\n",
        "\n",
        "2. Encoding: Converting categorical variables into numerical representations that can be understood by machine learning algorithms. This includes techniques like one-hot encoding, label encoding, and ordinal encoding.\n",
        "\n",
        "3. Scaling and normalization: Rescaling numerical features to ensure they are on a similar scale, which helps in improving the performance of certain machine learning algorithms.\n",
        "\n",
        "4. Feature extraction: Creating new features from existing ones to capture more relevant information. This can involve techniques like extracting date/time components, generating statistical features, or performing dimensionality reduction through methods like principal component analysis (PCA).\n",
        "\n",
        "5. Text processing: Preprocessing and transforming text data by techniques like tokenization, stemming, lemmatization, and feature extraction using methods like TF-IDF (Term Frequency-Inverse Document Frequency) or word embeddings.\n",
        "\n",
        "6. Handling outliers: Identifying and handling outliers in the data to avoid their negative impact on model performance.\n",
        "\n",
        "7. Feature selection: Selecting the most relevant features that contribute significantly to the predictive power of the model while reducing complexity and overfitting. Techniques like correlation analysis, feature importance ranking, and recursive feature elimination can be used.\n",
        "\n",
        "Using various libraries and frameworks like pandas, scikit-learn, and NumPy that offer a wide range of tools and functions to perform feature engineering tasks efficiently."
      ],
      "metadata": {
        "id": "MWYULBMaZqO4"
      }
    },
    {
      "cell_type": "code",
      "execution_count": null,
      "metadata": {
        "id": "zCHXDwLpZgGr"
      },
      "outputs": [],
      "source": [
        "import pandas as pd\n",
        "import numpy as np\n",
        "import seaborn as sns\n",
        "import matplotlib.pyplot as plt\n",
        "%matplotlib inline\n",
        "# Import label encoder\n",
        "from sklearn import preprocessing"
      ]
    },
    {
      "cell_type": "code",
      "source": [
        "df = pd.read_csv('PEP1.csv')\n",
        "df "
      ],
      "metadata": {
        "id": "eErJcWOyZ-Be"
      },
      "execution_count": null,
      "outputs": []
    },
    {
      "cell_type": "code",
      "source": [
        "df.describe()"
      ],
      "metadata": {
        "id": "dA2MwxLk-T7V"
      },
      "execution_count": null,
      "outputs": []
    },
    {
      "cell_type": "markdown",
      "source": [
        "**'df.sescribe'**, provides a summary statistical measures for each column in the DataFrame, such as count, mean, standard deviation, minimum value, 25th percentile, median (50th percentile), 75th percentile, and maximum value."
      ],
      "metadata": {
        "id": "Ui0vQydt-sQS"
      }
    },
    {
      "cell_type": "markdown",
      "source": [
        "##1.\tUnderstand the dataset:\n",
        "- a.\tIdentify the shape of the dataset\n",
        "- b.\tIdentify variables with null values\n",
        "- c.\tIdentify variables with unique values"
      ],
      "metadata": {
        "id": "S-jrUVZbgBVP"
      }
    },
    {
      "cell_type": "markdown",
      "source": [
        "The 'df.columns' attribute is used to retrieve the column names of a DataFrame, providing insights into the titles and the data they represent. By accessing 'df.columns', you can obtain a list or Index object that contains the names of all the columns present in the DataFrame. \n",
        "This attribute allows you to conveniently access the column labels and use them for various purposes, such as selecting specific columns, renaming columns, or performing operations on individual or multiple columns."
      ],
      "metadata": {
        "id": "1qfZGEkfenVG"
      }
    },
    {
      "cell_type": "code",
      "source": [
        "df.columns"
      ],
      "metadata": {
        "id": "j4vPdTAsaKSR"
      },
      "execution_count": null,
      "outputs": []
    },
    {
      "cell_type": "markdown",
      "source": [
        "###a.\tIdentify the shape of the dataset\n"
      ],
      "metadata": {
        "id": "_l6OwEAoXQNt"
      }
    },
    {
      "cell_type": "code",
      "source": [
        "df.shape"
      ],
      "metadata": {
        "id": "h6PqoUsjaKVT"
      },
      "execution_count": null,
      "outputs": []
    },
    {
      "cell_type": "markdown",
      "source": [
        "- There are 1460 records or instances (rows) in the DataFrame.\n",
        "- There are 81 variables or features (columns) in the DataFrame."
      ],
      "metadata": {
        "id": "AigPCq1hgbvO"
      }
    },
    {
      "cell_type": "markdown",
      "source": [
        "- 'True' represents a missing or NaN value.\n",
        "- 'False' represents a non-missing or non-NaN value."
      ],
      "metadata": {
        "id": "d3-RL6M8g5Ba"
      }
    },
    {
      "cell_type": "markdown",
      "source": [
        "###b.\tIdentify variables with null values\n"
      ],
      "metadata": {
        "id": "ieCb-NzPXYtx"
      }
    },
    {
      "cell_type": "code",
      "source": [
        "#finding missing values\n",
        "df.isna().any()"
      ],
      "metadata": {
        "id": "VjGFCVtH_VVu"
      },
      "execution_count": null,
      "outputs": []
    },
    {
      "cell_type": "code",
      "source": [
        "df.isna().sum()"
      ],
      "metadata": {
        "id": "TA6gxa-9_iGs"
      },
      "execution_count": null,
      "outputs": []
    },
    {
      "cell_type": "markdown",
      "source": [
        "- The \"Id,\" \"MSSubClass,\" \"MSZoning,\" \"LotArea,\" and other columns have a value of 0, which means there are no missing values in those columns.\n",
        "- The \"LotFrontage\" column has a value of 259, indicating that there are 259 missing values in that column."
      ],
      "metadata": {
        "id": "cyohoZhC_1RA"
      }
    },
    {
      "cell_type": "code",
      "source": [
        "df.count()"
      ],
      "metadata": {
        "id": "_6jOv-0ZAA7M"
      },
      "execution_count": null,
      "outputs": []
    },
    {
      "cell_type": "code",
      "source": [
        "df.drop_duplicates()"
      ],
      "metadata": {
        "id": "VugCNxrZAN02"
      },
      "execution_count": null,
      "outputs": []
    },
    {
      "cell_type": "code",
      "source": [
        "df.sort_values(['LotArea','SalePrice'],ascending=[True,False])"
      ],
      "metadata": {
        "id": "BN19Eox7AuOi"
      },
      "execution_count": null,
      "outputs": []
    },
    {
      "cell_type": "markdown",
      "source": [
        "###c. Identify variables with unique values\n"
      ],
      "metadata": {
        "id": "P9zno5HHXK4B"
      }
    },
    {
      "cell_type": "code",
      "source": [
        "df['SalePrice'].unique()[:20]\n"
      ],
      "metadata": {
        "id": "YF9aZBdiaKbj"
      },
      "execution_count": null,
      "outputs": []
    },
    {
      "cell_type": "code",
      "source": [
        "df.SalePrice.value_counts()\n"
      ],
      "metadata": {
        "id": "vaPXTS61I2k4"
      },
      "execution_count": null,
      "outputs": []
    },
    {
      "cell_type": "code",
      "source": [
        "top_10_prices = df.SalePrice.value_counts().nlargest(10)\n",
        "\n",
        "plt.figure(figsize=(8, 4))\n",
        "sns.barplot(x=top_10_prices.index, y=top_10_prices.values, color='blue')\n",
        "plt.title('Top 10 Most Frequent Sale Prices', fontsize=16)\n",
        "plt.xlabel('Sale Price', fontsize=12)\n",
        "plt.ylabel('Count', fontsize=12)\n",
        "plt.xticks(rotation=90, fontsize=10)\n",
        "plt.yticks(fontsize=10)\n",
        "plt.grid(axis='y', linestyle='--', alpha=0.5)\n",
        "plt.show()\n"
      ],
      "metadata": {
        "id": "3gavJWOmJXp7"
      },
      "execution_count": null,
      "outputs": []
    },
    {
      "cell_type": "code",
      "source": [
        "df['SalePrice'].value_counts(normalize=True)"
      ],
      "metadata": {
        "id": "0Gl8_vf6EgyV"
      },
      "execution_count": null,
      "outputs": []
    },
    {
      "cell_type": "code",
      "source": [
        "df['LotArea'].unique()[:20]"
      ],
      "metadata": {
        "id": "aMEQ5QJShpKt"
      },
      "execution_count": null,
      "outputs": []
    },
    {
      "cell_type": "markdown",
      "source": [
        "- **'SalePrice'** Provide insights into the distribution and range of values present in the 'SalePrice' column\n",
        "- Obtain an array or list containing the first 20 unique values found in the **'LotFrontage'** column of the DataFrame df. This can provide insights into the range of lot frontage values in the dataset."
      ],
      "metadata": {
        "id": "x_tzcBHBiF8g"
      }
    },
    {
      "cell_type": "code",
      "source": [
        "df['LotArea'].value_counts() "
      ],
      "metadata": {
        "id": "xaFmFTcmELT9"
      },
      "execution_count": null,
      "outputs": []
    },
    {
      "cell_type": "code",
      "source": [
        "top_10_lot_area = df['LotArea'].value_counts().nlargest(10)\n",
        "\n",
        "plt.figure(figsize=(8, 4))\n",
        "sns.barplot(x=top_10_lot_area.index, y=top_10_lot_area.values, color='blue')\n",
        "plt.title('Top 10 Sales based on Lot Area', fontsize=16)\n",
        "plt.xlabel('Lot Area', fontsize=12)\n",
        "plt.ylabel('Count', fontsize=12)\n",
        "plt.xticks(rotation=90, fontsize=10)\n",
        "plt.yticks(fontsize=10)\n",
        "plt.grid(axis='y', linestyle='--', alpha=0.5)\n",
        "plt.show()\n"
      ],
      "metadata": {
        "id": "N9ONGW6HJyCQ"
      },
      "execution_count": null,
      "outputs": []
    },
    {
      "cell_type": "code",
      "source": [
        "plt.figure(figsize=(10, 6))\n",
        "sns.scatterplot(x='LotArea', y='SalePrice', data=df, color='blue', alpha=0.6)\n",
        "plt.title('Lot Area vs. Sale Price', fontsize=16)\n",
        "plt.xlabel('Lot Area', fontsize=12)\n",
        "plt.ylabel('Sale Price', fontsize=12)\n",
        "plt.xticks(fontsize=10)\n",
        "plt.yticks(fontsize=10)\n",
        "plt.grid(True, linestyle='--', alpha=0.5)\n",
        "plt.show()"
      ],
      "metadata": {
        "id": "K73babCaIMoH"
      },
      "execution_count": null,
      "outputs": []
    },
    {
      "cell_type": "markdown",
      "source": [
        "The scatter plot reveals the data points are densely clustered within the range of \"LotArea\" between 1000 and 2000, and the corresponding sale prices are mostly between $90K and $350K. However, there are a few outliers that deviate from this trend, particularly for lot areas above 50000 and corresponding sale prices."
      ],
      "metadata": {
        "id": "bfrk-GErEzJ4"
      }
    },
    {
      "cell_type": "markdown",
      "source": [
        "# 2. Generate a separate dataset for numerical and categorical variables"
      ],
      "metadata": {
        "id": "v8VJLwPOg3hm"
      }
    },
    {
      "cell_type": "code",
      "source": [
        "numerical = df.select_dtypes(include=[np.number])\n",
        "categorical = df.select_dtypes(exclude=[np.number])"
      ],
      "metadata": {
        "id": "9UhetCjKaKeP"
      },
      "execution_count": null,
      "outputs": []
    },
    {
      "cell_type": "code",
      "source": [
        "numericcol=numerical.columns.tolist()\n",
        "categorycol=categorical.columns.tolist()\n",
        "print (\"Category :\",categorycol)\n",
        "print(\"\\n Numeric:\", numericcol)"
      ],
      "metadata": {
        "id": "5S1TURjRaKhd"
      },
      "execution_count": null,
      "outputs": []
    },
    {
      "cell_type": "code",
      "source": [
        "df.tail()"
      ],
      "metadata": {
        "id": "pxtgKME1aKnr"
      },
      "execution_count": null,
      "outputs": []
    },
    {
      "cell_type": "markdown",
      "source": [
        "Executing **'df.tail()'** will output the last 5 rows and 81 columns of the DataFrame df. Each row will display the values of all columns, checking for any patterns or trends, or simply reviewing the overall structure of the DataFrame"
      ],
      "metadata": {
        "id": "zIgx-0eQjpcR"
      }
    },
    {
      "cell_type": "markdown",
      "source": [
        "#3. Exploratory Data Analysis (EDA)of numerical variables:\n",
        "\n",
        "- Missing value treatment\n",
        "- Identify the skewness and distribution\n",
        "- Identify significant variables using a correlation matrix\n",
        "- Pair plot for distribution and density\n",
        "\n",
        "\n"
      ],
      "metadata": {
        "id": "xob6j2qdkNqk"
      }
    },
    {
      "cell_type": "code",
      "source": [
        "numerical.head()"
      ],
      "metadata": {
        "id": "VsNG0yuqOyyA"
      },
      "execution_count": null,
      "outputs": []
    },
    {
      "cell_type": "markdown",
      "source": [
        "###a.\tMissing value treatment\n"
      ],
      "metadata": {
        "id": "Sm6EMVukQDxW"
      }
    },
    {
      "cell_type": "code",
      "source": [
        "# check if there is a missing value in the data\n",
        "numerical.isna().any()"
      ],
      "metadata": {
        "id": "jQMpAn8nPm59"
      },
      "execution_count": null,
      "outputs": []
    },
    {
      "cell_type": "code",
      "source": [
        "# check if there is a missing value in the data\n",
        "numerical.isna().any()"
      ],
      "metadata": {
        "id": "83JbP9YJPxh3"
      },
      "execution_count": null,
      "outputs": []
    },
    {
      "cell_type": "code",
      "source": [
        "numerical.shape"
      ],
      "metadata": {
        "id": "1pdHGxWXP0gg"
      },
      "execution_count": null,
      "outputs": []
    },
    {
      "cell_type": "code",
      "source": [
        "# dropping the rows where we have a missing value\n",
        "numerical_cleaned=numerical.dropna()"
      ],
      "metadata": {
        "id": "ALay6SNmP35i"
      },
      "execution_count": null,
      "outputs": []
    },
    {
      "cell_type": "code",
      "source": [
        "numerical_cleaned.shape"
      ],
      "metadata": {
        "id": "_-ln6QIQP73p"
      },
      "execution_count": null,
      "outputs": []
    },
    {
      "cell_type": "code",
      "source": [
        "numerical.describe()"
      ],
      "metadata": {
        "id": "Rcwt9dQbP-nL"
      },
      "execution_count": null,
      "outputs": []
    },
    {
      "cell_type": "markdown",
      "source": [
        "### b.\tIdentify the skewness and distribution"
      ],
      "metadata": {
        "id": "IxeuuB8bQK6T"
      }
    },
    {
      "cell_type": "code",
      "source": [
        "df.skew(skipna=True)"
      ],
      "metadata": {
        "id": "P6-sakqIP-q8"
      },
      "execution_count": null,
      "outputs": []
    },
    {
      "cell_type": "markdown",
      "source": [
        "The skewness value indicates the degree of skewness in the distribution. A positive skewness value means the distribution is skewed to the right (long tail on the right), while a negative skewness value means the distribution is skewed to the left (long tail on the left).\n",
        "\n",
        "- **\"Id 0.000000\"** suggests that the 'Id' column has a skewness of 0, indicating a symmetric distribution.\n",
        "- **\"LotArea 12.207688\"** indicates that the 'LotArea' column has a high positive skewness, suggesting a right-skewed distribution with a long tail on the right."
      ],
      "metadata": {
        "id": "WigHkyKToEvG"
      }
    },
    {
      "cell_type": "code",
      "source": [
        "fig = plt.figure(figsize =(12, 4))\n",
        "\n",
        "df.skew().plot()\n"
      ],
      "metadata": {
        "id": "WZ2uOTwbP-u0"
      },
      "execution_count": null,
      "outputs": []
    },
    {
      "cell_type": "code",
      "source": [
        "fig, ax = plt.subplots(figsize=(12, 8))\n",
        "\n",
        "# Plot the skewness values\n",
        "#df.skew().plot(kind='bar', color='#457B9D', alpha=0.8)\n",
        "df.skew().plot(kind='bar', ax=ax, color='darkblue', width=0.6)\n",
        "\n",
        "# Customize the plot\n",
        "ax.set_title('Skewness of Variables', fontsize=16)\n",
        "ax.set_xlabel('Variables', fontsize=12)\n",
        "ax.set_ylabel('Skewness', fontsize=12)\n",
        "ax.tick_params(labelsize=10)\n",
        "ax.grid(axis='y', linestyle='--', alpha=0.5)\n",
        "\n",
        "# Remove spines\n",
        "ax.spines['top'].set_visible(False)\n",
        "ax.spines['right'].set_visible(False)\n",
        "\n",
        "# Add value labels to each bar\n",
        "for p in ax.patches:\n",
        "    ax.annotate(f'{p.get_height():.2f}', (p.get_x() + p.get_width() / 2, p.get_height()),\n",
        "                ha='center', va='bottom', fontsize=10)\n",
        "\n",
        "plt.tight_layout()\n",
        "plt\n"
      ],
      "metadata": {
        "id": "Bzn7yW2pYn31"
      },
      "execution_count": null,
      "outputs": []
    },
    {
      "cell_type": "code",
      "source": [
        "numerical.var()"
      ],
      "metadata": {
        "id": "l3mwXazWP-x1"
      },
      "execution_count": null,
      "outputs": []
    },
    {
      "cell_type": "code",
      "source": [
        "numerical.head()"
      ],
      "metadata": {
        "id": "xM7FfbP-SVlK"
      },
      "execution_count": null,
      "outputs": []
    },
    {
      "cell_type": "code",
      "source": [
        "numerical.corr(method='pearson')"
      ],
      "metadata": {
        "id": "Z07RmrmcSXD9"
      },
      "execution_count": null,
      "outputs": []
    },
    {
      "cell_type": "code",
      "source": [
        "# Display correlation in matrix in heatmap\n",
        "plt.figure(figsize=(20,10))\n",
        "# Plot the correlation heatmap\n",
        "sns.heatmap(df.corr(), annot=True, cmap='coolwarm', fmt=\".2f\")\n",
        "#sns.heatmap(numerical.corr(),annot=True,cmap='viridis')\n",
        "plt.show()"
      ],
      "metadata": {
        "id": "B_GMGIWmSXHa"
      },
      "execution_count": null,
      "outputs": []
    },
    {
      "cell_type": "code",
      "source": [
        "#saleprice correlation matrix\n",
        "k = 10 #number of variables for heatmap\n",
        "cols = df.corr().nlargest(k, 'SalePrice')['SalePrice'].index\n",
        "cm = df[cols].corr()\n",
        "plt.figure(figsize=(10,6))\n",
        "sns.heatmap(cm, annot=True, cmap = 'viridis')"
      ],
      "metadata": {
        "id": "5IxMcU80SXLK"
      },
      "execution_count": null,
      "outputs": []
    },
    {
      "cell_type": "markdown",
      "source": [
        "#c.\tIdentify significant variables using a correlation matrix "
      ],
      "metadata": {
        "id": "1EmYnaa5rZM-"
      }
    },
    {
      "cell_type": "markdown",
      "source": [
        "Identify variables that have a strong positive or negative correlation. Variables with high positive correlation tend to move together, while those with high negative correlation tend to move in opposite directions. This information is useful for understanding relationships between variables, identifying potential multicollinearity, and selecting variables for further analysis or modeling.\n",
        "\n",
        "Color scale: The heatmap uses a color scale to represent the correlation values. A gradient color scheme is used, with different colors indicating different levels of correlation. For example, a gradient from light colors (e.g., light blue) to dark colors (e.g., dark red) can represent a range from negative to positive correlations."
      ],
      "metadata": {
        "id": "jRB3oLkUs8ES"
      }
    },
    {
      "cell_type": "markdown",
      "source": [
        "#d.\tPair plot for distribution and density"
      ],
      "metadata": {
        "id": "ifZHuu2St7b0"
      }
    },
    {
      "cell_type": "code",
      "source": [
        "num_cols = ['LotArea', 'SalePrice']\n",
        "colors = ['#FF6F61', '#6FA8FF']  # Customized colors for the histograms\n",
        "\n",
        "for i in range(0, len(num_cols), 2):\n",
        "    plt.figure(figsize=(10, 4))\n",
        "    plt.subplot(121)\n",
        "    sns.distplot(df[num_cols[i]], hist=True, kde=True, color=colors[0])\n",
        "    plt.subplot(122)\n",
        "    sns.distplot(df[num_cols[i+1]], hist=True, kde=True, color=colors[1])\n",
        "    plt.tight_layout()\n",
        "    plt.show()\n"
      ],
      "metadata": {
        "id": "zUoxd9qys7oO"
      },
      "execution_count": null,
      "outputs": []
    },
    {
      "cell_type": "markdown",
      "source": [
        "# 4.\tEDA of categorical variables"
      ],
      "metadata": {
        "id": "LzloooQDWyaD"
      }
    },
    {
      "cell_type": "markdown",
      "source": [
        "### a.\tMissing value treatment"
      ],
      "metadata": {
        "id": "Wk9gwMc8XBf3"
      }
    },
    {
      "cell_type": "code",
      "source": [
        "# check if there is a missing value in the data\n",
        "categorical.isna().any()"
      ],
      "metadata": {
        "id": "AUBljyJPs7rI"
      },
      "execution_count": null,
      "outputs": []
    },
    {
      "cell_type": "code",
      "source": [
        "categorical.isna().sum()*100/df.shape[0]"
      ],
      "metadata": {
        "id": "aJxYE5NnkydT"
      },
      "execution_count": null,
      "outputs": []
    },
    {
      "cell_type": "markdown",
      "source": [
        "- Alley: 93.77% of the values in the \"Alley\" column are missing.\n",
        "- MasVnrType: 0.55% of the values in the \"MasVnrType\" column are missing.\n",
        "- BsmtQual: 2.53% of the values in the \"BsmtQual\" column are missing.\n",
        "- BsmtCond: 2.53% of the values in the \"BsmtCond\" column are missing.\n",
        "- BsmtExposure: 2.60% of the values in the \"BsmtExposure\" column are missing.\n",
        "- BsmtFinType1: 2.53% of the values in the \"BsmtFinType1\" column are missing.\n",
        "- BsmtFinType2: 2.60% of the values in the \"BsmtFinType2\" column are missing."
      ],
      "metadata": {
        "id": "xIwD3YjcaWy3"
      }
    },
    {
      "cell_type": "code",
      "source": [
        "categorical.shape"
      ],
      "metadata": {
        "id": "xOp_ZMhOZR-p"
      },
      "execution_count": null,
      "outputs": []
    },
    {
      "cell_type": "code",
      "source": [
        "# dropping the rows where we have a missing value\n",
        "dfC=numerical.dropna()"
      ],
      "metadata": {
        "id": "gKjFoHD5ZSCp"
      },
      "execution_count": null,
      "outputs": []
    },
    {
      "cell_type": "code",
      "source": [
        "dfC.shape"
      ],
      "metadata": {
        "id": "j_XiHgn8ZSHF"
      },
      "execution_count": null,
      "outputs": []
    },
    {
      "cell_type": "code",
      "source": [
        "dfC.describe()"
      ],
      "metadata": {
        "id": "N9iHF5QWV7QX"
      },
      "execution_count": null,
      "outputs": []
    },
    {
      "cell_type": "code",
      "source": [],
      "metadata": {
        "id": "xMNM_TnmXFQK"
      },
      "execution_count": null,
      "outputs": []
    },
    {
      "cell_type": "markdown",
      "source": [
        "###b. Count plot and box plot for bivariate analysis"
      ],
      "metadata": {
        "id": "rVyNyoE7WDrz"
      }
    },
    {
      "cell_type": "code",
      "source": [
        "#Countplot for Categorical Feature 'SalePrice'\n",
        "\n",
        "plt.figure(figsize=(10,5))\n",
        "sns.countplot(x='SalePrice', data=dfC, order=dfC['SalePrice'].value_counts().head(20).index, palette='magma')\n",
        "plt.xlabel('Sale Price', fontsize=12)\n",
        "plt.ylabel('Count', fontsize=12)\n",
        "plt.title('Top 20 Sale Prices', fontsize=16)\n",
        "plt.xticks(rotation=45, ha='right')\n",
        "plt.show()"
      ],
      "metadata": {
        "id": "eBUTjpYnYLcF"
      },
      "execution_count": null,
      "outputs": []
    },
    {
      "cell_type": "markdown",
      "source": [
        "The top 20 houses with a sale price of 140,000 have the highest number of sales, while the lowest sales are observed for houses with sale prices between 120,000 and $115,000."
      ],
      "metadata": {
        "id": "SUcC7paaZR5q"
      }
    },
    {
      "cell_type": "code",
      "source": [
        "plt.figure(figsize=(10, 4))\n",
        "sns.regplot(x='LotArea', y='SalePrice', data=dfC, scatter_kws={'alpha':0.5}, color='blue', line_kws={'color':'orange'})\n",
        "plt.xlabel('Lot Area', fontsize=12)\n",
        "plt.ylabel('Sale Price', fontsize=12)\n",
        "plt.title('Relationship between Lot Area and Sale Price', fontsize=16)\n",
        "plt.show()"
      ],
      "metadata": {
        "id": "sLw2Zv3dalRN"
      },
      "execution_count": null,
      "outputs": []
    },
    {
      "cell_type": "markdown",
      "source": [
        "The plot showcases the relationship between the size of the land (\"Lot Area\") and the sale price of houses. It is presented as a scatter plot, where each data point represents a house, with the x-axis representing the lot area and the y-axis representing the sale price. Additionally, there is an orange regression line that indicates the overall trend in the data. From the plot, we can observe that there is a higher density of lot areas between 10,000 and 35,000.Notice there is one outlier 'LotArea' sold above 200,000."
      ],
      "metadata": {
        "id": "Xoxj7ncxbPmA"
      }
    },
    {
      "cell_type": "code",
      "source": [
        "#Countplot for Categorical Feature 'LotArea'\n",
        "plt.figure(figsize=(10, 4))\n",
        "sns.countplot(y='LotArea', data=dfC, order=dfC['LotArea'].value_counts().head(20).index, palette='magma')\n",
        "plt.xlabel('Count', fontsize=12)\n",
        "plt.ylabel('Lot Area', fontsize=12)\n",
        "plt.title('Top 20 Lot Areas', fontsize=16)\n",
        "plt.show()\n"
      ],
      "metadata": {
        "id": "lNDKuFmLal0J"
      },
      "execution_count": null,
      "outputs": []
    },
    {
      "cell_type": "markdown",
      "source": [
        "###c. Identify significant variables using p-values and Chi-Square values\n",
        "If the p-value obtained is:\n",
        "- 0.05 (the chosen α value), you reject the Null Hypothesis (H₀) and accept the Alternate Hypothesis (H₁). This indicates that the two categorical variables are dependent.\n",
        "- 0.05, you accept the Null Hypothesis (H₀) and reject the Alternate Hypothesis (H₁). This suggests that the two categorical variables are independent."
      ],
      "metadata": {
        "id": "mj_x8uude_dd"
      }
    },
    {
      "cell_type": "code",
      "source": [
        "df.head() "
      ],
      "metadata": {
        "id": "Om2mmRPmdgLB"
      },
      "execution_count": null,
      "outputs": []
    },
    {
      "cell_type": "code",
      "source": [
        "!pip install researchpy\n"
      ],
      "metadata": {
        "id": "zNIVDQtOf_qV"
      },
      "execution_count": null,
      "outputs": []
    },
    {
      "cell_type": "code",
      "source": [
        "import researchpy as rp\n",
        "import scipy.stats as stats"
      ],
      "metadata": {
        "id": "BX8Tz1qOdgTD"
      },
      "execution_count": null,
      "outputs": []
    },
    {
      "cell_type": "code",
      "source": [
        "df.shape"
      ],
      "metadata": {
        "id": "7fL8JyMtdgam"
      },
      "execution_count": null,
      "outputs": []
    },
    {
      "cell_type": "code",
      "source": [
        "#Get a count of the empty values of reach column\n",
        "df.isna().sum()"
      ],
      "metadata": {
        "id": "ULCgK5f0dgic"
      },
      "execution_count": null,
      "outputs": []
    },
    {
      "cell_type": "code",
      "source": [
        "#view statistic\n",
        "df.describe()"
      ],
      "metadata": {
        "id": "QTcC64Jml9io"
      },
      "execution_count": null,
      "outputs": []
    },
    {
      "cell_type": "code",
      "source": [
        "rp.summary_cat(df[[\"LotArea\", \"SalePrice\"]])"
      ],
      "metadata": {
        "id": "tlgRic0-mf-A"
      },
      "execution_count": null,
      "outputs": []
    },
    {
      "cell_type": "code",
      "source": [
        "from scipy import stats"
      ],
      "metadata": {
        "id": "hh8Yhz9EmtZx"
      },
      "execution_count": null,
      "outputs": []
    },
    {
      "cell_type": "code",
      "source": [
        "stats.chi2_contingency(pd.crosstab(df.LotArea,df.SalePrice))"
      ],
      "metadata": {
        "id": "aG8WRoMQmyz9"
      },
      "execution_count": null,
      "outputs": []
    },
    {
      "cell_type": "markdown",
      "source": [
        "\n",
        "- Chi-square statistic: The calculated chi-square statistic is approximately 735,094.65. This statistic measures the discrepancy between the observed frequencies and the expected frequencies under the assumption of independence. A larger chi-square value indicates a stronger association between the variables.\n",
        "\n",
        "- Degrees of freedom: The degrees of freedom is 709,664. It is calculated as the product of (number of rows - 1) and (number of columns - 1). It represents the number of independent observations used in the calculation of the chi-square statistic.\n",
        "\n",
        "- p-value: The p-value is approximately 4.26e-99, which is extremely small. The p-value represents the probability of observing the given chi-square statistic (or more extreme values) under the null hypothesis of independence. In this case, the small p-value suggests strong evidence against the null hypothesis and indicates that there is a significant relationship between 'LotArea' and 'SalePrice'.\n",
        "\n",
        "- Expected frequencies: The expected frequencies are provided as an array. These are the frequencies that would be expected if the variables were independent. They are based on the observed marginal totals and the assumption of independence.\n"
      ],
      "metadata": {
        "id": "qGCqHHNxn8dl"
      }
    },
    {
      "cell_type": "code",
      "source": [
        "# Null Hypothesis: MoSold and SaleProice are independetn of each other\n",
        "crosstab = pd.crosstab(df[\"LotArea\"], df[\"SalePrice\"])\n",
        "crosstab"
      ],
      "metadata": {
        "id": "akJTw9s8nJUm"
      },
      "execution_count": null,
      "outputs": []
    },
    {
      "cell_type": "code",
      "source": [
        "stats.chi2_contingency(crosstab)"
      ],
      "metadata": {
        "id": "DfFe_OP9mzQL"
      },
      "execution_count": null,
      "outputs": []
    },
    {
      "cell_type": "code",
      "source": [
        "pd.crosstab(df.SalePrice, df.LotArea, margins=True)"
      ],
      "metadata": {
        "id": "yLJtD3eGhEDh"
      },
      "execution_count": null,
      "outputs": []
    },
    {
      "cell_type": "code",
      "source": [
        "# Create the contingency table\n",
        "contingency_table = pd.crosstab(df.SalePrice, df.LotArea, margins=True)\n",
        "\n",
        "# Remove the \"All\" label from the row/column margins\n",
        "contingency_table = contingency_table.drop(\"All\", axis=0)\n",
        "contingency_table = contingency_table.drop(\"All\", axis=1)\n",
        "\n",
        "# Select the top 20 rows and columns\n",
        "top_20 = contingency_table.nlargest(20, columns=contingency_table.columns[-1])\n",
        "\n",
        "# Plot the heatmap for the top 20 values\n",
        "plt.figure(figsize=(12, 8))\n",
        "sns.heatmap(top_20, cmap='YlGnBu', annot=True, fmt='d', cbar=True)\n",
        "plt.xlabel('Lot Area', fontsize=12)\n",
        "plt.ylabel('Sale Price', fontsize=12)\n",
        "plt.title('Top 20 Contingency Table: Sale Price vs Lot Area', fontsize=16)\n",
        "plt.show()\n"
      ],
      "metadata": {
        "id": "daOR19hAtAa0"
      },
      "execution_count": null,
      "outputs": []
    },
    {
      "cell_type": "markdown",
      "source": [
        "# 5. Combine all the significant categorical and numerical variables\n",
        "jointplot which gives a plethora of information in a single plot.\n",
        "- Scatter Plot\n",
        "- Regression line fit to the data.\n",
        "- Histogram and KDE of individual variables.\n",
        "- Pearson correlation and p value."
      ],
      "metadata": {
        "id": "ivmmIEgTuoFk"
      }
    },
    {
      "cell_type": "code",
      "source": [
        "p1=df[['Neighborhood','SalePrice']]"
      ],
      "metadata": {
        "id": "cN9O-rGcvKwD"
      },
      "execution_count": null,
      "outputs": []
    },
    {
      "cell_type": "code",
      "source": [
        "p2=df[['LotArea','MoSold']]"
      ],
      "metadata": {
        "id": "fZaA_16_tBmk"
      },
      "execution_count": null,
      "outputs": []
    },
    {
      "cell_type": "code",
      "source": [
        "p1.head(1)"
      ],
      "metadata": {
        "id": "muj_f8_2u4qp"
      },
      "execution_count": null,
      "outputs": []
    },
    {
      "cell_type": "code",
      "source": [
        "p2.head(1)"
      ],
      "metadata": {
        "id": "CW3PBQbMvdNZ"
      },
      "execution_count": null,
      "outputs": []
    },
    {
      "cell_type": "code",
      "source": [
        "pd.concat([p1,p2], axis=1)"
      ],
      "metadata": {
        "id": "WzWoht7uvdbM"
      },
      "execution_count": null,
      "outputs": []
    },
    {
      "cell_type": "code",
      "source": [
        "# Concatenate p1 and p2 along axis 1\n",
        "con_df = pd.concat([p1, p2], axis=1)\n",
        "\n",
        "# Plot the concatenated DataFrame\n",
        "con_df.plot(figsize=(10, 6))\n",
        "plt.xlabel('X-axis', fontsize=12)\n",
        "plt.ylabel('Y-axis', fontsize=12)\n",
        "plt.title('Concatenated Data', fontsize=16)\n",
        "plt.show()\n"
      ],
      "metadata": {
        "id": "7wK14tIuwBks"
      },
      "execution_count": null,
      "outputs": []
    },
    {
      "cell_type": "code",
      "source": [
        "# Jointplot which gives a plethora of information in a single plot.\n",
        "\n",
        "sns.jointplot(x='LotArea', y='SalePrice', data=df, kind='reg', color='Purple')\n"
      ],
      "metadata": {
        "id": "0rQ6etaYyGIs"
      },
      "execution_count": null,
      "outputs": []
    },
    {
      "cell_type": "markdown",
      "source": [
        "#6. Plot box plot for the new dataset to find the variables with outliers"
      ],
      "metadata": {
        "id": "lUFfID8gy9X0"
      }
    },
    {
      "cell_type": "code",
      "source": [
        "df.select_dtypes(['int', 'float'])"
      ],
      "metadata": {
        "id": "cqYuR-b8y3F6"
      },
      "execution_count": null,
      "outputs": []
    },
    {
      "cell_type": "code",
      "source": [
        "n=len(df.columns)"
      ],
      "metadata": {
        "id": "6zoqQ6Rfy3Ri"
      },
      "execution_count": null,
      "outputs": []
    },
    {
      "cell_type": "code",
      "source": [
        "n"
      ],
      "metadata": {
        "id": "mvEUGfFPy4ET"
      },
      "execution_count": null,
      "outputs": []
    },
    {
      "cell_type": "code",
      "source": [
        "n//2+1"
      ],
      "metadata": {
        "id": "d3te3xsMziDC"
      },
      "execution_count": null,
      "outputs": []
    },
    {
      "cell_type": "code",
      "source": [
        "plt.figure(figsize=(14,6))\n",
        "sns.boxplot(data=df,x='SalePrice')\n",
        "plt.show()"
      ],
      "metadata": {
        "id": "J8TkCtFbziOv"
      },
      "execution_count": null,
      "outputs": []
    },
    {
      "cell_type": "code",
      "source": [
        "plt.figure(figsize=(14,6))\n",
        "sns.boxplot(data=df,x='OverallQual',y='SalePrice')\n",
        "plt.show()"
      ],
      "metadata": {
        "id": "IvdmeXXoz3Pr"
      },
      "execution_count": null,
      "outputs": []
    },
    {
      "cell_type": "code",
      "source": [
        "import seaborn as sns\n",
        "import matplotlib.pyplot as plt\n",
        "\n",
        "plt.figure(figsize=(15, 8))\n",
        "plt.xticks(rotation=45)\n",
        "sns.boxplot(x='Neighborhood', y='SalePrice', data=df)\n",
        "\n",
        "plt.xlabel('Neighborhood', fontsize=12)\n",
        "plt.ylabel('Sale Price', fontsize=12)\n",
        "plt.title('Boxplot of Sale Price by Neighborhood', fontsize=16)\n",
        "\n",
        "plt.show()\n"
      ],
      "metadata": {
        "id": "j8xrgswTzikQ"
      },
      "execution_count": null,
      "outputs": []
    }
  ]
}